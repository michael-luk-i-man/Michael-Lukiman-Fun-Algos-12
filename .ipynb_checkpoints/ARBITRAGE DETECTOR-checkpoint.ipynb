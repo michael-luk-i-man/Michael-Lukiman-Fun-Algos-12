{
 "cells": [
  {
   "cell_type": "code",
   "execution_count": 7,
   "metadata": {},
   "outputs": [
    {
     "name": "stdout",
     "output_type": "stream",
     "text": [
      "\n",
      " (1, 2, 10)\n",
      "\n",
      " 2 1 0.1\n",
      "\n",
      " (2, 3, 0.21)\n",
      "\n",
      " 3 2 4.761904761904762\n",
      "\n",
      " (3, 2, 0.5)\n",
      "\n",
      " 2 3 2.0\n"
     ]
    }
   ],
   "source": [
    "exchanges = [\n",
    "    (1, 2, 10), # pound to yen\n",
    "    (2, 3, 0.21), # yen to usd\n",
    "    (3, 2, 0.5) # usd to pound\n",
    "]\n",
    "\n",
    "directed_exchanges = []\n",
    "\n",
    "for rate in exchanges:\n",
    "    directed_exchanges.append(rate)\n",
    "    print('\\n',rate)\n",
    "    directed_exchanges.append((rate[1],rate[0],1/rate[2]))\n",
    "    print('\\n',rate[1],rate[0],1/rate[2])\n"
   ]
  },
  {
   "cell_type": "code",
   "execution_count": 45,
   "metadata": {},
   "outputs": [
    {
     "name": "stdout",
     "output_type": "stream",
     "text": [
      "1 * 10\n",
      "10 * 0.1\n",
      "1.0 versus 1\n",
      "1 * 10\n",
      "10 * 0.1\n",
      "1.0 * 10\n",
      "10.0 versus 1\n",
      "1 * 10\n",
      "10 * 0.1\n",
      "1.0 * 10\n",
      "10.0 * 0.21\n",
      "2.1 versus 1\n",
      "Arbitrage!\n"
     ]
    }
   ],
   "source": [
    "def cycler_for_arb(directed_exchanges, rate_u, cycle_set):\n",
    "    for rate_v in directed_exchanges:\n",
    "        if rate_u[1] == rate_v[0]:\n",
    "            cycle_set.append((rate_v[0],rate_v[2]))\n",
    "            for node in cycle_set:\n",
    "                if node[0] == rate_u[1]:\n",
    "                    product = 1)])\n",
    "                    for element in cycle_set:\n",
    "                        print(product,'*',element[1])\n",
    "                        product = product * element[1]\n",
    "                    print(product,'versus 1')\n",
    "                    if product != 1.0: \n",
    "                                return True\n",
    "            cycler_for_arb(directed_exchanges, rate_v,cycle_set)\n",
    "    return False\n",
    "\n",
    "for rate_u in directed_exchanges:\n",
    "    cycle_set = []\n",
    "    cycle_set.append((rate_u[0],rate_u[2]))\n",
    "    if cycler_for_arb(directed_exchanges,rate_u,cycle_set):\n",
    "        print('Arbitrage!')\n",
    "        break\n",
    "\n",
    "\n",
    "            "
   ]
  },
  {
   "cell_type": "code",
   "execution_count": null,
   "metadata": {
    "collapsed": true
   },
   "outputs": [],
   "source": []
  },
  {
   "cell_type": "code",
   "execution_count": null,
   "metadata": {
    "collapsed": true
   },
   "outputs": [],
   "source": []
  }
 ],
 "metadata": {
  "kernelspec": {
   "display_name": "Python 3",
   "language": "python",
   "name": "python3"
  },
  "language_info": {
   "codemirror_mode": {
    "name": "ipython",
    "version": 3
   },
   "file_extension": ".py",
   "mimetype": "text/x-python",
   "name": "python",
   "nbconvert_exporter": "python",
   "pygments_lexer": "ipython3",
   "version": "3.6.3"
  }
 },
 "nbformat": 4,
 "nbformat_minor": 2
}
