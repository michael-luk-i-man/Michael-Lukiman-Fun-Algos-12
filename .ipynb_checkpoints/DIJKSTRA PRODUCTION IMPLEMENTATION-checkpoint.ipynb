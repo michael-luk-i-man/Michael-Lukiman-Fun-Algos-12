{
 "cells": [
  {
   "cell_type": "code",
   "execution_count": 208,
   "metadata": {
    "scrolled": false
   },
   "outputs": [
    {
     "name": "stdout",
     "output_type": "stream",
     "text": [
      "[[], [], [], []]\n",
      "\n",
      "Edge: [1, 2, 0.5]\n",
      "\tVertex: [1, -1]\n",
      "\t\tu: 1  | v: 2\n",
      "\t\t [[2], [1], [], []]\n",
      "\tVertex: [2, -1]\n",
      "\tVertex: [3, -1]\n",
      "\tVertex: [4, -1]\n",
      "\n",
      "Edge: [1, 3, 0.4]\n",
      "\tVertex: [1, -1]\n",
      "\t\tu: 1  | v: 3\n",
      "\t\t [[2, 3], [1], [1], []]\n",
      "\tVertex: [2, -1]\n",
      "\tVertex: [3, -1]\n",
      "\tVertex: [4, -1]\n",
      "\n",
      "Edge: [2, 4, 0.3]\n",
      "\tVertex: [1, -1]\n",
      "\tVertex: [2, -1]\n",
      "\t\tu: 2  | v: 4\n",
      "\t\t [[2, 3], [1, 4], [1], [2]]\n",
      "\tVertex: [3, -1]\n",
      "\tVertex: [4, -1]\n",
      "\n",
      "Edge: [3, 4, 0.5]\n",
      "\tVertex: [1, -1]\n",
      "\tVertex: [2, -1]\n",
      "\tVertex: [3, -1]\n",
      "\t\tu: 3  | v: 4\n",
      "\t\t [[2, 3], [1, 4], [1, 4], [2, 3]]\n",
      "\tVertex: [4, -1]\n"
     ]
    }
   ],
   "source": [
    "import heapq, logging\n",
    "from IPython.display import Image\n",
    "\n",
    "\n",
    "Gv = [[1,-1], [2,-1], [3,-1], [4,-1]] # A B C D with reliabilities considered impossibly low.\n",
    "Ge = [ # u, v, reliability\n",
    "     [1, 2, 0.5], # 0\n",
    "     [1, 3, 0.4], # 1\n",
    "     [2, 4, 0.3], # 2\n",
    "     [3, 4, 0.5]  # 3\n",
    "     ]\n",
    "\n",
    "vr = ['inf']*len(Gv)\n",
    "vpi = ['nil']*len(Gv)\n",
    "Gadj = [[] for n in range(len(Gv))]\n",
    "print(Gadj)\n",
    "\n",
    "first = 0 \n",
    "second = 1\n",
    "third = 2\n",
    "\n",
    "def w(u,v):\n",
    "    for e in Ge:\n",
    "        if e[first] == u or e[second] == v: \n",
    "            if e[second] == v or e[first] == v:\n",
    "                return e[third]\n",
    "\n",
    "for e in Ge:\n",
    "    print('\\nEdge:', e)\n",
    "    for vertex in Gv:\n",
    "        print('\\tVertex:',vertex)\n",
    "        if e[first] == vertex[first]: \n",
    "            u = e[first]\n",
    "            v = e[second]\n",
    "            print('\\t\\tu:',u, ' | v:', v)\n",
    "            Gadj[u-1].append(v)\n",
    "            Gadj[v-1].append(u)\n",
    "            print('\\t\\t',Gadj)\n",
    "            \n",
    "# print(vd, vp, Gadj)\n",
    "            \n",
    "Image(filename='graph.png')\n",
    "\n",
    "Gv[0][1] = 2"
   ]
  },
  {
   "cell_type": "code",
   "execution_count": 209,
   "metadata": {},
   "outputs": [
    {
     "data": {
      "text/plain": [
       "0.5"
      ]
     },
     "execution_count": 209,
     "metadata": {},
     "output_type": "execute_result"
    }
   ],
   "source": [
    "w(1,2)"
   ]
  },
  {
   "cell_type": "code",
   "execution_count": 210,
   "metadata": {},
   "outputs": [
    {
     "name": "stdout",
     "output_type": "stream",
     "text": [
      "Queue: \n",
      "[[-1, 2], [-1, 4], [-1, 3], [2, 1]]\n"
     ]
    }
   ],
   "source": [
    "for v in Gv:\n",
    "    key = v[first]\n",
    "    v[first] = v[second]\n",
    "    v[second] = key\n",
    "    \n",
    "\n",
    "\n",
    "Q = Gv\n",
    "heapq.heapify(Q)\n",
    "print('Queue: ')\n",
    "print(Q)"
   ]
  },
  {
   "cell_type": "code",
   "execution_count": 229,
   "metadata": {},
   "outputs": [
    {
     "name": "stdout",
     "output_type": "stream",
     "text": [
      "2\n",
      "Adj: 2\n",
      "-0.5\n"
     ]
    }
   ],
   "source": [
    "reliability = [-1 for n in range(len(Gv))]\n",
    "S = []\n",
    "\n",
    "def relax(u,v,reliability):\n",
    "    print('Adj:',v)\n",
    "    if distance[v-1] < distance[u[1]-1] + w(u[1],v):\n",
    "        distance[v-1] = distance[u[1]-1] + w(u[1],v)\n",
    "        print(distance[v-1])\n",
    "        vpi[v-1] = u\n",
    "\n",
    "print(Q[0][1])\n",
    "w(Q[0][1],v)\n",
    "relax(Q[0],2,distance)\n",
    "                    "
   ]
  },
  {
   "cell_type": "code",
   "execution_count": null,
   "metadata": {
    "collapsed": true
   },
   "outputs": [],
   "source": [
    "while len(Q) != 0:\n",
    "    u = heapq.heappop(Q)\n",
    "    S.append(u)\n",
    "    print(u)\n",
    "    for v in Gadj[(u[1]-1)]:\n",
    "        relax(u,v,reliability)"
   ]
  },
  {
   "cell_type": "code",
   "execution_count": null,
   "metadata": {
    "collapsed": true
   },
   "outputs": [],
   "source": [
    "def dijkstra(G, w, s):\t\n",
    "    initialize_single_source(G,s) # Make every vertex far and parentless.\n",
    "\t# The distance of s is 0. \n",
    "\n",
    "\tS = [] # This is the decided path, I guess. \n",
    "\tQ = Q# The queue is the set of vertices in G. \n",
    "\twhile Q != []: # While the queue is not empty...\n",
    "\t\tu = heapq.pop(Q) # Extract the next vertex? with the smallest distance?\n",
    "\t\tS.append(u) # Add the vertex to the group.\n",
    "\t\tfor v in G.adj[u]\n",
    "\t\t\trelax(u,v,w)\n",
    "\n",
    "def initialize_single_source(G,s):\n",
    "\tfor v in Gv:\n",
    "\t\tvd[v-1] = inf\n",
    "\t\tvpi = NIL\n",
    "\tdistance[s] = 0\n",
    "\n",
    "def relax(u,v,w):\n",
    "\tif distance[v] > distance[u] + w(u,v):\n",
    "\t\tdistance[v] = distance[u] + w(u,v)\n",
    "\t\tv.pi = u"
   ]
  }
 ],
 "metadata": {
  "kernelspec": {
   "display_name": "Python 3",
   "language": "python",
   "name": "python3"
  },
  "language_info": {
   "codemirror_mode": {
    "name": "ipython",
    "version": 3
   },
   "file_extension": ".py",
   "mimetype": "text/x-python",
   "name": "python",
   "nbconvert_exporter": "python",
   "pygments_lexer": "ipython3",
   "version": "3.6.3"
  }
 },
 "nbformat": 4,
 "nbformat_minor": 2
}
