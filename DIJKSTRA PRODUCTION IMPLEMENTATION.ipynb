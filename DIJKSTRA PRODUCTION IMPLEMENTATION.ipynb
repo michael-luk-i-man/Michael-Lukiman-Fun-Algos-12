{
 "cells": [
  {
   "cell_type": "code",
   "execution_count": 316,
   "metadata": {
    "scrolled": false
   },
   "outputs": [
    {
     "name": "stdout",
     "output_type": "stream",
     "text": [
      "[[], [], [], []]\n",
      "\n",
      "Edge: [1, 2, 0.5]\n",
      "\tVertex: [1, 99]\n",
      "\t\tu: 1  | v: 2\n",
      "\t\t [[2], [1], [], []]\n",
      "\tVertex: [2, 99]\n",
      "\tVertex: [3, 99]\n",
      "\tVertex: [4, 99]\n",
      "\n",
      "Edge: [1, 3, 0.4]\n",
      "\tVertex: [1, 99]\n",
      "\t\tu: 1  | v: 3\n",
      "\t\t [[2, 3], [1], [1], []]\n",
      "\tVertex: [2, 99]\n",
      "\tVertex: [3, 99]\n",
      "\tVertex: [4, 99]\n",
      "\n",
      "Edge: [2, 4, 0.3]\n",
      "\tVertex: [1, 99]\n",
      "\tVertex: [2, 99]\n",
      "\t\tu: 2  | v: 4\n",
      "\t\t [[2, 3], [1, 4], [1], [2]]\n",
      "\tVertex: [3, 99]\n",
      "\tVertex: [4, 99]\n",
      "\n",
      "Edge: [3, 4, 0.5]\n",
      "\tVertex: [1, 99]\n",
      "\tVertex: [2, 99]\n",
      "\tVertex: [3, 99]\n",
      "\t\tu: 3  | v: 4\n",
      "\t\t [[2, 3], [1, 4], [1, 4], [2, 3]]\n",
      "\tVertex: [4, 99]\n"
     ]
    }
   ],
   "source": [
    "import heapq, logging\n",
    "from IPython.display import Image\n",
    "\n",
    "\n",
    "Gv = [[1,99], [2,99], [3,99], [4,99]] # A B C D with distances impossibly high.\n",
    "Ge = [ # u, v, reliability\n",
    "     [1, 2, 0.5], # 0\n",
    "     [1, 3, 0.4], # 1\n",
    "     [2, 4, 0.3], # 2\n",
    "     [3, 4, 0.5]  # 3\n",
    "     ]\n",
    "\n",
    "vr = ['inf']*len(Gv)\n",
    "vpi = ['nil']*len(Gv)\n",
    "Gadj = [[] for n in range(len(Gv))]\n",
    "print(Gadj)\n",
    "\n",
    "first = 0 \n",
    "second = 1\n",
    "third = 2\n",
    "\n",
    "def w(u,v):\n",
    "    for e in Ge:\n",
    "        if e[first] == u or e[second] == u: \n",
    "            if e[second] == v or e[first] == v:\n",
    "                return e[third]\n",
    "\n",
    "for e in Ge:\n",
    "    print('\\nEdge:', e)\n",
    "    for vertex in Gv:\n",
    "        print('\\tVertex:',vertex)\n",
    "        if e[first] == vertex[first]: \n",
    "            u = e[first]\n",
    "            v = e[second]\n",
    "            print('\\t\\tu:',u, ' | v:', v)\n",
    "            Gadj[u-1].append(v)\n",
    "            Gadj[v-1].append(u)\n",
    "            print('\\t\\t',Gadj)\n",
    "            \n",
    "# print(vd, vp, Gadj)\n",
    "            \n",
    "Image(filename='graph.png')\n",
    "\n",
    "Gv[0][1] = 0"
   ]
  },
  {
   "cell_type": "code",
   "execution_count": 317,
   "metadata": {},
   "outputs": [
    {
     "data": {
      "text/plain": [
       "0.5"
      ]
     },
     "execution_count": 317,
     "metadata": {},
     "output_type": "execute_result"
    }
   ],
   "source": [
    "w(1,2)"
   ]
  },
  {
   "cell_type": "code",
   "execution_count": 318,
   "metadata": {
    "collapsed": true
   },
   "outputs": [],
   "source": [
    "for v in Gv:\n",
    "    key = v[first]\n",
    "    v[first] = v[second]\n",
    "    v[second] = key"
   ]
  },
  {
   "cell_type": "code",
   "execution_count": 319,
   "metadata": {},
   "outputs": [
    {
     "name": "stdout",
     "output_type": "stream",
     "text": [
      "Queue: \n",
      "[[0, 1], [99, 2], [99, 3], [99, 4]]\n"
     ]
    }
   ],
   "source": [
    "\n",
    "Q = Gv\n",
    "heapq.heapify(Q)\n",
    "print('Queue: ')\n",
    "print(Q)"
   ]
  },
  {
   "cell_type": "code",
   "execution_count": 320,
   "metadata": {},
   "outputs": [
    {
     "name": "stdout",
     "output_type": "stream",
     "text": [
      "Adj: 2\n",
      "Distance 2 : 99 | Distance 1 : 0  | w( 1 , 2 ): 0.5\n",
      "0.5\n"
     ]
    }
   ],
   "source": [
    "distance = [99 for n in range(len(Gv))]\n",
    "S = []\n",
    "\n",
    "distance[0] = 0 \n",
    "\n",
    "def relax(u,v,distance):\n",
    "    print('Adj:',v)\n",
    "    print('Distance', v, ':',distance[v-1], '| Distance', u[1], ':',distance[u[1]-1], ' | w(',u[1],',',v,'):',w(u[1],v))\n",
    "    if distance[v-1] > distance[u[1]-1] + w(u[1],v):\n",
    "        distance[v-1] = distance[u[1]-1] + w(u[1],v)\n",
    "        print(distance[v-1])\n",
    "        vpi[v-1] = u\n",
    "                    \n",
    "relax(Q[0],2,distance)"
   ]
  },
  {
   "cell_type": "code",
   "execution_count": 321,
   "metadata": {},
   "outputs": [
    {
     "name": "stdout",
     "output_type": "stream",
     "text": [
      "[0, 1]\n",
      "Adj: 2\n",
      "Distance 2 : 0.5 | Distance 1 : 0  | w( 1 , 2 ): 0.5\n",
      "\n",
      "\n",
      "Adj: 3\n",
      "Distance 3 : 99 | Distance 1 : 0  | w( 1 , 3 ): 0.4\n",
      "0.4\n",
      "\n",
      "\n",
      "[99, 2]\n",
      "Adj: 1\n",
      "Distance 1 : 0 | Distance 2 : 0.5  | w( 2 , 1 ): 0.5\n",
      "\n",
      "\n",
      "Adj: 4\n",
      "Distance 4 : 99 | Distance 2 : 0.5  | w( 2 , 4 ): 0.3\n",
      "0.8\n",
      "\n",
      "\n",
      "[99, 3]\n",
      "Adj: 1\n",
      "Distance 1 : 0 | Distance 3 : 0.4  | w( 3 , 1 ): 0.4\n",
      "\n",
      "\n",
      "Adj: 4\n",
      "Distance 4 : 0.8 | Distance 3 : 0.4  | w( 3 , 4 ): 0.5\n",
      "\n",
      "\n",
      "[99, 4]\n",
      "Adj: 2\n",
      "Distance 2 : 0.5 | Distance 4 : 0.8  | w( 4 , 2 ): 0.3\n",
      "\n",
      "\n",
      "Adj: 3\n",
      "Distance 3 : 0.4 | Distance 4 : 0.8  | w( 4 , 3 ): 0.5\n",
      "\n",
      "\n"
     ]
    }
   ],
   "source": [
    "while len(Q) != 0:\n",
    "    u = heapq.heappop(Q)\n",
    "    S.append(u)\n",
    "    print(u)\n",
    "    for v in Gadj[(u[1]-1)]:\n",
    "        relax(u,v,distance)\n",
    "        print('\\n')"
   ]
  },
  {
   "cell_type": "code",
   "execution_count": 328,
   "metadata": {},
   "outputs": [
    {
     "name": "stdout",
     "output_type": "stream",
     "text": [
      "1 : 0\n",
      "2 : 0.5\n",
      "3 : 0.4\n",
      "4 : 0.8\n",
      "Got it!\n"
     ]
    }
   ],
   "source": [
    "count = 0\n",
    "for d in distance:\n",
    "    count+=1\n",
    "    print(count,':',d)\n",
    "\n",
    "if distance[1-1]==0 and distance[2-1]==0.5 and distance[3-1]==0.4 and distance[4-1]==0.8:\n",
    "    print('Got it!')"
   ]
  }
 ],
 "metadata": {
  "kernelspec": {
   "display_name": "Python 3",
   "language": "python",
   "name": "python3"
  },
  "language_info": {
   "codemirror_mode": {
    "name": "ipython",
    "version": 3
   },
   "file_extension": ".py",
   "mimetype": "text/x-python",
   "name": "python",
   "nbconvert_exporter": "python",
   "pygments_lexer": "ipython3",
   "version": "3.6.3"
  }
 },
 "nbformat": 4,
 "nbformat_minor": 2
}
